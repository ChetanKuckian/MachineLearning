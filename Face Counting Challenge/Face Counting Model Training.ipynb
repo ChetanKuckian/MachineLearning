{
 "cells": [
  {
   "cell_type": "markdown",
   "metadata": {},
   "source": [
    "All Necessary Imports"
   ]
  },
  {
   "cell_type": "code",
   "execution_count": 1,
   "metadata": {},
   "outputs": [],
   "source": [
    "from tensorflow.keras import layers,Model,Sequential,Input\n",
    "from tensorflow.keras.applications import ResNet152V2,InceptionResNetV2,VGG19,InceptionV3,MobileNetV2\n",
    "from tensorflow.keras.applications import resnet_v2,inception_resnet_v2,vgg19,inception_v3,mobilenet_v2\n",
    "from tensorflow.keras.models import load_model\n",
    "from tensorflow.keras.callbacks import EarlyStopping\n",
    "import pandas as pd\n",
    "import numpy as np\n",
    "import os\n",
    "import cv2\n",
    "import matplotlib.pyplot as plt"
   ]
  },
  {
   "cell_type": "markdown",
   "metadata": {},
   "source": [
    "Reading Training and Testing Data into DataFrame"
   ]
  },
  {
   "cell_type": "code",
   "execution_count": 2,
   "metadata": {},
   "outputs": [],
   "source": [
    "train_data = pd.read_csv('train/train.csv')\n",
    "test_data = pd.read_csv('test.csv')"
   ]
  },
  {
   "cell_type": "markdown",
   "metadata": {},
   "source": [
    "Setting Image Shape and Number of Epochs\n",
    "\n",
    "As here transfer learning is used the already trained models take an max input shape of (224,224)"
   ]
  },
  {
   "cell_type": "code",
   "execution_count": 3,
   "metadata": {},
   "outputs": [],
   "source": [
    "IMG_WIDTH=224\n",
    "IMG_HEIGHT=224\n",
    "IMG_SHAPE = (IMG_HEIGHT,IMG_WIDTH,3)\n",
    "EPOCHS = 50"
   ]
  },
  {
   "cell_type": "markdown",
   "metadata": {},
   "source": [
    "Plots graph of Training loss vs Validation loss"
   ]
  },
  {
   "cell_type": "code",
   "execution_count": 4,
   "metadata": {},
   "outputs": [],
   "source": [
    "def plot_history(history):\n",
    "    loss = history.history['loss']\n",
    "    val_loss = history.history['val_loss']\n",
    "    epochs = range(len(loss))\n",
    "    plt.plot(epochs, loss, 'r', label='Training Loss')\n",
    "    plt.plot(epochs, val_loss, 'b', label='Validation Loss')\n",
    "    plt.title('Training and validation loss')\n",
    "    plt.legend()\n",
    "    plt.show()"
   ]
  },
  {
   "cell_type": "markdown",
   "metadata": {},
   "source": [
    "Loads the images into numpy array.\n",
    "\n",
    "Also converts the Black and White Images from 1 Channel to 3 Channels"
   ]
  },
  {
   "cell_type": "code",
   "execution_count": 5,
   "metadata": {},
   "outputs": [],
   "source": [
    "def create_training_dataset(img_folder):\n",
    "    img_data_array=[]\n",
    "    class_name=[]\n",
    "    for index, row in train_data.iterrows():       \n",
    "            image_path= os.path.join(img_folder,  row['Name'])\n",
    "            image= cv2.imread( image_path, cv2.COLOR_BGR2RGB)\n",
    "            image=cv2.resize(image, (IMG_HEIGHT, IMG_WIDTH),interpolation = cv2.INTER_AREA)\n",
    "            image=np.array(image)\n",
    "            if image.shape != IMG_SHAPE:\n",
    "                image = np.stack((image,)*3, axis=-1)\n",
    "            image = image.astype('float32')\n",
    "            image /= 255 \n",
    "            img_data_array.append(image)\n",
    "            class_name.append(row['HeadCount'])\n",
    "    return np.array(img_data_array), np.array(class_name)"
   ]
  },
  {
   "cell_type": "code",
   "execution_count": 6,
   "metadata": {},
   "outputs": [],
   "source": [
    "def create_test_dataset(img_folder):\n",
    "    img_data_array=[]\n",
    "    for index, row in test_data.iterrows():       \n",
    "            image_path= os.path.join(img_folder,  row['Name'])\n",
    "            image= cv2.imread( image_path, cv2.COLOR_BGR2RGB)\n",
    "            image=cv2.resize(image, (IMG_HEIGHT, IMG_WIDTH),interpolation = cv2.INTER_AREA)\n",
    "            image=np.array(image)\n",
    "            if image.shape != (224, 224, 3):\n",
    "                image = np.stack((image,)*3, axis=-1)\n",
    "            image = image.astype('float32')\n",
    "            image /= 255 \n",
    "            img_data_array.append(image)\n",
    "    return np.array(img_data_array)"
   ]
  },
  {
   "cell_type": "markdown",
   "metadata": {},
   "source": [
    "This Function writes the final prediction into the submission file.\n",
    "\n",
    "The final output is computed as the average of all the models prediction"
   ]
  },
  {
   "cell_type": "code",
   "execution_count": 7,
   "metadata": {},
   "outputs": [],
   "source": [
    "def getFinalAvgPredictions(models,n=None):\n",
    "    final_prediction_df = pd.DataFrame()\n",
    "    for model in models:\n",
    "        print(model,\" Loading...\")\n",
    "        loaded_model = load_model('Models/'+model)\n",
    "        print(\"Model Load done\")\n",
    "        final_prediction_df[model] = loaded_model.predict(img_test_data).flatten()                                     \n",
    "    final_prediction_df['predictions'] = final_prediction_df.mean(axis=1)\n",
    "    final_pred = pd.DataFrame(columns=['Name','HeadCount'])\n",
    "    final_pred['Name'] = test_data['Name']\n",
    "    final_pred['HeadCount'] = final_prediction_df['predictions']\n",
    "    if n != None:\n",
    "        final_pred.to_csv('submission_'+str(n)+'.csv',index=False)\n",
    "    else:\n",
    "        final_pred.to_csv('submission'+'.csv',index=False)\n",
    "    \n",
    "\n",
    "                             "
   ]
  },
  {
   "cell_type": "code",
   "execution_count": 8,
   "metadata": {},
   "outputs": [],
   "source": [
    "img_data, class_name =create_training_dataset(r'E:\\Programming Work\\Machine Learning\\Face Counting\\train\\image_data')\n",
    "img_test_data =create_test_dataset(r'E:\\Programming Work\\Machine Learning\\Face Counting\\train\\image_data')"
   ]
  },
  {
   "cell_type": "code",
   "execution_count": 9,
   "metadata": {},
   "outputs": [],
   "source": [
    "callbacks=EarlyStopping(monitor='val_loss', patience=4)"
   ]
  },
  {
   "cell_type": "markdown",
   "metadata": {},
   "source": [
    "Using Data Augmentation to get different angles of human faces while training"
   ]
  },
  {
   "cell_type": "code",
   "execution_count": 10,
   "metadata": {},
   "outputs": [],
   "source": [
    "data_augmentation = Sequential([\n",
    "     layers.experimental.preprocessing.RandomFlip('horizontal_and_vertical'),\n",
    "     layers.experimental.preprocessing.RandomRotation(0.4),\n",
    "])"
   ]
  },
  {
   "cell_type": "markdown",
   "metadata": {},
   "source": [
    "Creating and Training the model using the ResNet152V2 as a base model"
   ]
  },
  {
   "cell_type": "code",
   "execution_count": 11,
   "metadata": {},
   "outputs": [
    {
     "name": "stdout",
     "output_type": "stream",
     "text": [
      "Epoch 1/50\n",
      "144/144 [==============================] - 30s 206ms/step - loss: 2.8496 - mean_absolute_error: 2.8496 - val_loss: 1.7645 - val_mean_absolute_error: 1.7645\n",
      "Epoch 2/50\n",
      "144/144 [==============================] - 27s 187ms/step - loss: 2.1090 - mean_absolute_error: 2.1090 - val_loss: 1.6056 - val_mean_absolute_error: 1.6056\n",
      "Epoch 3/50\n",
      "144/144 [==============================] - 27s 189ms/step - loss: 1.9728 - mean_absolute_error: 1.9728 - val_loss: 1.4661 - val_mean_absolute_error: 1.4661\n",
      "Epoch 4/50\n",
      "144/144 [==============================] - 27s 191ms/step - loss: 1.8437 - mean_absolute_error: 1.8437 - val_loss: 1.3990 - val_mean_absolute_error: 1.3990\n",
      "Epoch 5/50\n",
      "144/144 [==============================] - 28s 193ms/step - loss: 1.7441 - mean_absolute_error: 1.7441 - val_loss: 1.3632 - val_mean_absolute_error: 1.3632\n",
      "Epoch 6/50\n",
      "144/144 [==============================] - 28s 195ms/step - loss: 1.6843 - mean_absolute_error: 1.6843 - val_loss: 1.2996 - val_mean_absolute_error: 1.2996\n",
      "Epoch 7/50\n",
      "144/144 [==============================] - 28s 195ms/step - loss: 1.6100 - mean_absolute_error: 1.6100 - val_loss: 1.3099 - val_mean_absolute_error: 1.3099\n",
      "Epoch 8/50\n",
      "144/144 [==============================] - 28s 195ms/step - loss: 1.5700 - mean_absolute_error: 1.5700 - val_loss: 1.2735 - val_mean_absolute_error: 1.2735\n",
      "Epoch 9/50\n",
      "144/144 [==============================] - 28s 195ms/step - loss: 1.5320 - mean_absolute_error: 1.5320 - val_loss: 1.2347 - val_mean_absolute_error: 1.2347\n",
      "Epoch 10/50\n",
      "144/144 [==============================] - 28s 195ms/step - loss: 1.4817 - mean_absolute_error: 1.4817 - val_loss: 1.2400 - val_mean_absolute_error: 1.2400\n",
      "Epoch 11/50\n",
      "144/144 [==============================] - 28s 196ms/step - loss: 1.4450 - mean_absolute_error: 1.4450 - val_loss: 1.2036 - val_mean_absolute_error: 1.2036\n",
      "Epoch 12/50\n",
      "144/144 [==============================] - 28s 196ms/step - loss: 1.3847 - mean_absolute_error: 1.3847 - val_loss: 1.2150 - val_mean_absolute_error: 1.2150\n",
      "Epoch 13/50\n",
      "144/144 [==============================] - 28s 197ms/step - loss: 1.3640 - mean_absolute_error: 1.3640 - val_loss: 1.1738 - val_mean_absolute_error: 1.1738\n",
      "Epoch 14/50\n",
      "144/144 [==============================] - 28s 197ms/step - loss: 1.3676 - mean_absolute_error: 1.3676 - val_loss: 1.1825 - val_mean_absolute_error: 1.1825\n",
      "Epoch 15/50\n",
      "144/144 [==============================] - 28s 197ms/step - loss: 1.3099 - mean_absolute_error: 1.3099 - val_loss: 1.1715 - val_mean_absolute_error: 1.1715\n",
      "Epoch 16/50\n",
      "144/144 [==============================] - 28s 197ms/step - loss: 1.2973 - mean_absolute_error: 1.2973 - val_loss: 1.1606 - val_mean_absolute_error: 1.1606\n",
      "Epoch 17/50\n",
      "144/144 [==============================] - 28s 197ms/step - loss: 1.2667 - mean_absolute_error: 1.2667 - val_loss: 1.1466 - val_mean_absolute_error: 1.1466\n",
      "Epoch 18/50\n",
      "144/144 [==============================] - 28s 197ms/step - loss: 1.2329 - mean_absolute_error: 1.2329 - val_loss: 1.1579 - val_mean_absolute_error: 1.1579\n",
      "Epoch 19/50\n",
      "144/144 [==============================] - 28s 198ms/step - loss: 1.2211 - mean_absolute_error: 1.2211 - val_loss: 1.1412 - val_mean_absolute_error: 1.1412\n",
      "Epoch 20/50\n",
      "144/144 [==============================] - 28s 198ms/step - loss: 1.2056 - mean_absolute_error: 1.2056 - val_loss: 1.1281 - val_mean_absolute_error: 1.1281\n",
      "Epoch 21/50\n",
      "144/144 [==============================] - 29s 198ms/step - loss: 1.1869 - mean_absolute_error: 1.1869 - val_loss: 1.1280 - val_mean_absolute_error: 1.1280\n",
      "Epoch 22/50\n",
      "144/144 [==============================] - 28s 198ms/step - loss: 1.1856 - mean_absolute_error: 1.1856 - val_loss: 1.1318 - val_mean_absolute_error: 1.1318\n",
      "Epoch 23/50\n",
      "144/144 [==============================] - 29s 198ms/step - loss: 1.1313 - mean_absolute_error: 1.1313 - val_loss: 1.1263 - val_mean_absolute_error: 1.1263\n",
      "Epoch 24/50\n",
      "144/144 [==============================] - 29s 198ms/step - loss: 1.1439 - mean_absolute_error: 1.1439 - val_loss: 1.1210 - val_mean_absolute_error: 1.1210\n",
      "Epoch 25/50\n",
      "144/144 [==============================] - 29s 198ms/step - loss: 1.1203 - mean_absolute_error: 1.1203 - val_loss: 1.1287 - val_mean_absolute_error: 1.1287\n",
      "Epoch 26/50\n",
      "144/144 [==============================] - 29s 199ms/step - loss: 1.0930 - mean_absolute_error: 1.0930 - val_loss: 1.1263 - val_mean_absolute_error: 1.1263\n",
      "Epoch 27/50\n",
      "144/144 [==============================] - 29s 198ms/step - loss: 1.1002 - mean_absolute_error: 1.1002 - val_loss: 1.1102 - val_mean_absolute_error: 1.1102\n",
      "Epoch 28/50\n",
      "144/144 [==============================] - 29s 199ms/step - loss: 1.0722 - mean_absolute_error: 1.0722 - val_loss: 1.0988 - val_mean_absolute_error: 1.0988\n",
      "Epoch 29/50\n",
      "144/144 [==============================] - 29s 199ms/step - loss: 1.0673 - mean_absolute_error: 1.0673 - val_loss: 1.1085 - val_mean_absolute_error: 1.1085\n",
      "Epoch 30/50\n",
      "144/144 [==============================] - 29s 199ms/step - loss: 1.0513 - mean_absolute_error: 1.0513 - val_loss: 1.0983 - val_mean_absolute_error: 1.0983\n",
      "Epoch 31/50\n",
      "144/144 [==============================] - 29s 199ms/step - loss: 1.0411 - mean_absolute_error: 1.0411 - val_loss: 1.1017 - val_mean_absolute_error: 1.1017\n",
      "Epoch 32/50\n",
      "144/144 [==============================] - 29s 199ms/step - loss: 1.0229 - mean_absolute_error: 1.0229 - val_loss: 1.0934 - val_mean_absolute_error: 1.0934\n",
      "Epoch 33/50\n",
      "144/144 [==============================] - 29s 199ms/step - loss: 1.0009 - mean_absolute_error: 1.0009 - val_loss: 1.0904 - val_mean_absolute_error: 1.0904\n",
      "Epoch 34/50\n",
      "144/144 [==============================] - 29s 199ms/step - loss: 1.0046 - mean_absolute_error: 1.0046 - val_loss: 1.0857 - val_mean_absolute_error: 1.0857\n",
      "Epoch 35/50\n",
      "144/144 [==============================] - 29s 199ms/step - loss: 0.9733 - mean_absolute_error: 0.9733 - val_loss: 1.0867 - val_mean_absolute_error: 1.0867\n",
      "Epoch 36/50\n",
      "144/144 [==============================] - 29s 199ms/step - loss: 0.9629 - mean_absolute_error: 0.9629 - val_loss: 1.0837 - val_mean_absolute_error: 1.0837\n",
      "Epoch 37/50\n",
      "144/144 [==============================] - 29s 199ms/step - loss: 0.9660 - mean_absolute_error: 0.9660 - val_loss: 1.0931 - val_mean_absolute_error: 1.0931\n",
      "Epoch 38/50\n",
      "144/144 [==============================] - 29s 199ms/step - loss: 0.9406 - mean_absolute_error: 0.9406 - val_loss: 1.0827 - val_mean_absolute_error: 1.0827\n",
      "Epoch 39/50\n",
      "144/144 [==============================] - 29s 199ms/step - loss: 0.9386 - mean_absolute_error: 0.9386 - val_loss: 1.0800 - val_mean_absolute_error: 1.0800\n",
      "Epoch 40/50\n",
      "144/144 [==============================] - 29s 199ms/step - loss: 0.9363 - mean_absolute_error: 0.9363 - val_loss: 1.0758 - val_mean_absolute_error: 1.0758\n",
      "Epoch 41/50\n",
      "144/144 [==============================] - 29s 199ms/step - loss: 0.9133 - mean_absolute_error: 0.9133 - val_loss: 1.0779 - val_mean_absolute_error: 1.0779\n",
      "Epoch 42/50\n",
      "144/144 [==============================] - 29s 199ms/step - loss: 0.9196 - mean_absolute_error: 0.9196 - val_loss: 1.0771 - val_mean_absolute_error: 1.0771\n",
      "Epoch 43/50\n",
      "144/144 [==============================] - 29s 199ms/step - loss: 0.8939 - mean_absolute_error: 0.8939 - val_loss: 1.0701 - val_mean_absolute_error: 1.0701\n",
      "Epoch 44/50\n",
      "144/144 [==============================] - 29s 199ms/step - loss: 0.8928 - mean_absolute_error: 0.8928 - val_loss: 1.0681 - val_mean_absolute_error: 1.0681\n",
      "Epoch 45/50\n",
      "144/144 [==============================] - 29s 199ms/step - loss: 0.8892 - mean_absolute_error: 0.8892 - val_loss: 1.0703 - val_mean_absolute_error: 1.0703\n",
      "Epoch 46/50\n",
      "144/144 [==============================] - 29s 199ms/step - loss: 0.8803 - mean_absolute_error: 0.8803 - val_loss: 1.0644 - val_mean_absolute_error: 1.0644\n",
      "Epoch 47/50\n",
      "144/144 [==============================] - 29s 199ms/step - loss: 0.8744 - mean_absolute_error: 0.8744 - val_loss: 1.0638 - val_mean_absolute_error: 1.0638\n",
      "Epoch 48/50\n",
      "144/144 [==============================] - 29s 199ms/step - loss: 0.8712 - mean_absolute_error: 0.8712 - val_loss: 1.0625 - val_mean_absolute_error: 1.0625\n",
      "Epoch 49/50\n",
      "144/144 [==============================] - 29s 199ms/step - loss: 0.8698 - mean_absolute_error: 0.8698 - val_loss: 1.0626 - val_mean_absolute_error: 1.0626\n"
     ]
    },
    {
     "name": "stdout",
     "output_type": "stream",
     "text": [
      "Epoch 50/50\n",
      "144/144 [==============================] - 29s 199ms/step - loss: 0.8550 - mean_absolute_error: 0.8550 - val_loss: 1.0600 - val_mean_absolute_error: 1.0600\n",
      "WARNING:tensorflow:From C:\\Users\\CHETAN KUCKIAN\\AppData\\Roaming\\Python\\Python37\\site-packages\\tensorflow\\python\\training\\tracking\\tracking.py:111: Model.state_updates (from tensorflow.python.keras.engine.training) is deprecated and will be removed in a future version.\n",
      "Instructions for updating:\n",
      "This property should not be used in TensorFlow 2.0, as updates are applied automatically.\n",
      "WARNING:tensorflow:From C:\\Users\\CHETAN KUCKIAN\\AppData\\Roaming\\Python\\Python37\\site-packages\\tensorflow\\python\\training\\tracking\\tracking.py:111: Layer.updates (from tensorflow.python.keras.engine.base_layer) is deprecated and will be removed in a future version.\n",
      "Instructions for updating:\n",
      "This property should not be used in TensorFlow 2.0, as updates are applied automatically.\n",
      "INFO:tensorflow:Assets written to: Models/model_ResNet152V2\\assets\n"
     ]
    },
    {
     "data": {
      "image/png": "[encoded data removed]",
      "text/plain": [
       "<Figure size 432x288 with 1 Axes>"
      ]
     },
     "metadata": {
      "needs_background": "light"
     },
     "output_type": "display_data"
    }
   ],
   "source": [
    "base_model_ResNet152V2 = ResNet152V2(input_shape=IMG_SHAPE,\n",
    "                                               include_top=False,\n",
    "                                               weights='imagenet')\n",
    "\n",
    "base_model_ResNet152V2.trainable = False\n",
    "\n",
    "\n",
    "last_layer_ResNet152V2 = base_model_ResNet152V2.get_layer(\"post_relu\")\n",
    "last_output_ResNet152V2 = last_layer_ResNet152V2.output\n",
    "\n",
    "\n",
    "\n",
    "\n",
    "preprocess_input_ResNet152V2 =resnet_v2.preprocess_input\n",
    "\n",
    "inputs = Input(shape=IMG_SHAPE)\n",
    "x_ResNet152V2 = data_augmentation(inputs)\n",
    "x_ResNet152V2 = preprocess_input_ResNet152V2(x_ResNet152V2)\n",
    "x_ResNet152V2 = layers.Flatten()(last_output_ResNet152V2)\n",
    "x_ResNet152V2 = layers.Dense(1024, activation='relu')(x_ResNet152V2)\n",
    "x_ResNet152V2 = layers.Dropout(.2)(x_ResNet152V2)\n",
    "x_ResNet152V2 = layers.Dense(512, activation='relu')(x_ResNet152V2)\n",
    "x_ResNet152V2 = layers.Dropout(.2)(x_ResNet152V2) \n",
    "x_ResNet152V2 = layers.Dense(256, activation='relu')(x_ResNet152V2)\n",
    "x_ResNet152V2 = layers.Dropout(.2)(x_ResNet152V2)                  \n",
    "x_ResNet152V2 = layers.Dense(1)(x_ResNet152V2)      \n",
    "\n",
    "\n",
    "model_ResNet152V2 = Model(base_model_ResNet152V2.input, x_ResNet152V2) \n",
    "\n",
    "model_ResNet152V2.compile(\n",
    "    optimizer='Adadelta',\n",
    "    loss='mean_absolute_error', \n",
    "    metrics=['mean_absolute_error']\n",
    ")\n",
    "\n",
    "history =model_ResNet152V2.fit(\n",
    "    img_data, class_name,\n",
    "    epochs=EPOCHS,\n",
    "    verbose=1,\n",
    "    validation_split = 0.2,\n",
    "    callbacks=callbacks\n",
    ")\n",
    "model_ResNet152V2.save('Models/model_ResNet152V2')\n",
    "plot_history(history)"
   ]
  },
  {
   "cell_type": "markdown",
   "metadata": {},
   "source": [
    "Creating and Training the model using the InceptionResNetV2 as a base model"
   ]
  },
  {
   "cell_type": "code",
   "execution_count": 14,
   "metadata": {},
   "outputs": [
    {
     "name": "stdout",
     "output_type": "stream",
     "text": [
      "Epoch 1/50\n",
      "144/144 [==============================] - 26s 179ms/step - loss: 2.4134 - mean_absolute_error: 2.4134 - val_loss: 1.6171 - val_mean_absolute_error: 1.6171\n",
      "Epoch 2/50\n",
      "144/144 [==============================] - 21s 147ms/step - loss: 1.8872 - mean_absolute_error: 1.8872 - val_loss: 1.4186 - val_mean_absolute_error: 1.4186\n",
      "Epoch 3/50\n",
      "144/144 [==============================] - 21s 148ms/step - loss: 1.7982 - mean_absolute_error: 1.7982 - val_loss: 1.4220 - val_mean_absolute_error: 1.4220\n",
      "Epoch 4/50\n",
      "144/144 [==============================] - 21s 149ms/step - loss: 1.7156 - mean_absolute_error: 1.7156 - val_loss: 1.3548 - val_mean_absolute_error: 1.3548\n",
      "Epoch 5/50\n",
      "144/144 [==============================] - 22s 153ms/step - loss: 1.6346 - mean_absolute_error: 1.6346 - val_loss: 1.3215 - val_mean_absolute_error: 1.3215\n",
      "Epoch 6/50\n",
      "144/144 [==============================] - 22s 154ms/step - loss: 1.5866 - mean_absolute_error: 1.5866 - val_loss: 1.2385 - val_mean_absolute_error: 1.2385\n",
      "Epoch 7/50\n",
      "144/144 [==============================] - 22s 155ms/step - loss: 1.5288 - mean_absolute_error: 1.5288 - val_loss: 1.2127 - val_mean_absolute_error: 1.2127\n",
      "Epoch 8/50\n",
      "144/144 [==============================] - 22s 156ms/step - loss: 1.5050 - mean_absolute_error: 1.5050 - val_loss: 1.1981 - val_mean_absolute_error: 1.1981\n",
      "Epoch 9/50\n",
      "144/144 [==============================] - 22s 156ms/step - loss: 1.4585 - mean_absolute_error: 1.4585 - val_loss: 1.2110 - val_mean_absolute_error: 1.2110\n",
      "Epoch 10/50\n",
      "144/144 [==============================] - 22s 156ms/step - loss: 1.4509 - mean_absolute_error: 1.4509 - val_loss: 1.1370 - val_mean_absolute_error: 1.1370\n",
      "Epoch 11/50\n",
      "144/144 [==============================] - 22s 156ms/step - loss: 1.4263 - mean_absolute_error: 1.4263 - val_loss: 1.1459 - val_mean_absolute_error: 1.1459\n",
      "Epoch 12/50\n",
      "144/144 [==============================] - 22s 156ms/step - loss: 1.4004 - mean_absolute_error: 1.4004 - val_loss: 1.1462 - val_mean_absolute_error: 1.1462\n",
      "Epoch 13/50\n",
      "144/144 [==============================] - 23s 156ms/step - loss: 1.3566 - mean_absolute_error: 1.3566 - val_loss: 1.1533 - val_mean_absolute_error: 1.1533\n",
      "Epoch 14/50\n",
      "144/144 [==============================] - 23s 157ms/step - loss: 1.3609 - mean_absolute_error: 1.3609 - val_loss: 1.1124 - val_mean_absolute_error: 1.1124\n",
      "Epoch 15/50\n",
      "144/144 [==============================] - 23s 157ms/step - loss: 1.3533 - mean_absolute_error: 1.3533 - val_loss: 1.0978 - val_mean_absolute_error: 1.0978\n",
      "Epoch 16/50\n",
      "144/144 [==============================] - 23s 157ms/step - loss: 1.3153 - mean_absolute_error: 1.3153 - val_loss: 1.1240 - val_mean_absolute_error: 1.1240\n",
      "Epoch 17/50\n",
      "144/144 [==============================] - 23s 157ms/step - loss: 1.2995 - mean_absolute_error: 1.2995 - val_loss: 1.1685 - val_mean_absolute_error: 1.1685\n",
      "Epoch 18/50\n",
      "144/144 [==============================] - 23s 157ms/step - loss: 1.2945 - mean_absolute_error: 1.2945 - val_loss: 1.0966 - val_mean_absolute_error: 1.0966\n",
      "Epoch 19/50\n",
      "144/144 [==============================] - 23s 157ms/step - loss: 1.2699 - mean_absolute_error: 1.2699 - val_loss: 1.0962 - val_mean_absolute_error: 1.0962\n",
      "Epoch 20/50\n",
      "144/144 [==============================] - 23s 157ms/step - loss: 1.2753 - mean_absolute_error: 1.2753 - val_loss: 1.0698 - val_mean_absolute_error: 1.0698\n",
      "Epoch 21/50\n",
      "144/144 [==============================] - 23s 157ms/step - loss: 1.2603 - mean_absolute_error: 1.2603 - val_loss: 1.1085 - val_mean_absolute_error: 1.1085\n",
      "Epoch 22/50\n",
      "144/144 [==============================] - 23s 157ms/step - loss: 1.2386 - mean_absolute_error: 1.2386 - val_loss: 1.0715 - val_mean_absolute_error: 1.0715\n",
      "Epoch 23/50\n",
      "144/144 [==============================] - 23s 157ms/step - loss: 1.2257 - mean_absolute_error: 1.2257 - val_loss: 1.0760 - val_mean_absolute_error: 1.0760\n",
      "Epoch 24/50\n",
      "144/144 [==============================] - 23s 157ms/step - loss: 1.1998 - mean_absolute_error: 1.1998 - val_loss: 1.0649 - val_mean_absolute_error: 1.0649\n",
      "Epoch 25/50\n",
      "144/144 [==============================] - 23s 157ms/step - loss: 1.2014 - mean_absolute_error: 1.2014 - val_loss: 1.0662 - val_mean_absolute_error: 1.0662\n",
      "Epoch 26/50\n",
      "144/144 [==============================] - 23s 157ms/step - loss: 1.1930 - mean_absolute_error: 1.1930 - val_loss: 1.0698 - val_mean_absolute_error: 1.0698\n",
      "Epoch 27/50\n",
      "144/144 [==============================] - 23s 157ms/step - loss: 1.1688 - mean_absolute_error: 1.1688 - val_loss: 1.0758 - val_mean_absolute_error: 1.0758\n",
      "Epoch 28/50\n",
      "144/144 [==============================] - 23s 157ms/step - loss: 1.1380 - mean_absolute_error: 1.1380 - val_loss: 1.0586 - val_mean_absolute_error: 1.0586\n",
      "Epoch 29/50\n",
      "144/144 [==============================] - 23s 157ms/step - loss: 1.1601 - mean_absolute_error: 1.1601 - val_loss: 1.0514 - val_mean_absolute_error: 1.0514\n",
      "Epoch 30/50\n",
      "144/144 [==============================] - 23s 157ms/step - loss: 1.1250 - mean_absolute_error: 1.1250 - val_loss: 1.0552 - val_mean_absolute_error: 1.0552\n",
      "Epoch 31/50\n",
      "144/144 [==============================] - 23s 157ms/step - loss: 1.1234 - mean_absolute_error: 1.1234 - val_loss: 1.0373 - val_mean_absolute_error: 1.0373\n",
      "Epoch 32/50\n",
      "144/144 [==============================] - 23s 157ms/step - loss: 1.0990 - mean_absolute_error: 1.0990 - val_loss: 1.0538 - val_mean_absolute_error: 1.0538\n",
      "Epoch 33/50\n",
      "144/144 [==============================] - 23s 157ms/step - loss: 1.1092 - mean_absolute_error: 1.1092 - val_loss: 1.0455 - val_mean_absolute_error: 1.0455\n",
      "Epoch 34/50\n",
      "144/144 [==============================] - 23s 157ms/step - loss: 1.1038 - mean_absolute_error: 1.1038 - val_loss: 1.0798 - val_mean_absolute_error: 1.0798\n",
      "Epoch 35/50\n",
      "144/144 [==============================] - 23s 157ms/step - loss: 1.1040 - mean_absolute_error: 1.1040 - val_loss: 1.0605 - val_mean_absolute_error: 1.0605\n",
      "INFO:tensorflow:Assets written to: Models/model_InceptionResNetV2\\assets\n"
     ]
    },
    {
     "data": {
      "image/png": "[encoded data removed]",
      "text/plain": [
       "<Figure size 432x288 with 1 Axes>"
      ]
     },
     "metadata": {
      "needs_background": "light"
     },
     "output_type": "display_data"
    }
   ],
   "source": [
    "base_model_InceptionResNetV2 = InceptionResNetV2(input_shape=IMG_SHAPE,\n",
    "                                               include_top=False,\n",
    "                                               weights='imagenet')\n",
    "\n",
    "base_model_InceptionResNetV2.trainable = False\n",
    "\n",
    "\n",
    "last_layer_InceptionResNetV2 = base_model_InceptionResNetV2.get_layer(\"conv_7b_ac\")\n",
    "last_output_InceptionResNetV2 = last_layer_InceptionResNetV2.output\n",
    "\n",
    "\n",
    "preprocess_input_InceptionResNetV2 = inception_resnet_v2.preprocess_input\n",
    "\n",
    "inputs = Input(shape=IMG_SHAPE)\n",
    "x_InceptionResNetV2 = data_augmentation(inputs)\n",
    "x_InceptionResNetV2 = preprocess_input_InceptionResNetV2(x_InceptionResNetV2)\n",
    "x_InceptionResNetV2 = layers.Flatten()(last_output_InceptionResNetV2)\n",
    "x_InceptionResNetV2 = layers.Dense(1024, activation='relu')(x_InceptionResNetV2)\n",
    "x_InceptionResNetV2 = layers.Dropout(.2)(x_InceptionResNetV2)\n",
    "x_InceptionResNetV2 = layers.Dense(512, activation='relu')(x_InceptionResNetV2)\n",
    "x_InceptionResNetV2 = layers.Dropout(.2)(x_InceptionResNetV2) \n",
    "x_InceptionResNetV2 = layers.Dense(256, activation='relu')(x_InceptionResNetV2)\n",
    "x_InceptionResNetV2 = layers.Dropout(.2)(x_InceptionResNetV2)                  \n",
    "x_InceptionResNetV2 = layers.Dense(1)(x_InceptionResNetV2)      \n",
    "\n",
    "\n",
    "model_InceptionResNetV2 = Model(base_model_InceptionResNetV2.input, x_InceptionResNetV2) \n",
    "\n",
    "model_InceptionResNetV2.compile(\n",
    "    optimizer='Adadelta',\n",
    "    loss='mean_absolute_error', \n",
    "    metrics=['mean_absolute_error']\n",
    ")\n",
    "\n",
    "history =model_InceptionResNetV2.fit(\n",
    "    img_data, class_name,\n",
    "    epochs=EPOCHS,\n",
    "    verbose=1,\n",
    "    validation_split = 0.2,\n",
    "    callbacks=callbacks\n",
    ")\n",
    "model_InceptionResNetV2.save('Models/model_InceptionResNetV2')\n",
    "plot_history(history)"
   ]
  },
  {
   "cell_type": "markdown",
   "metadata": {},
   "source": [
    "Creating and Training the model using the VGG19 as a base model"
   ]
  },
  {
   "cell_type": "code",
   "execution_count": 15,
   "metadata": {
    "scrolled": true
   },
   "outputs": [
    {
     "name": "stdout",
     "output_type": "stream",
     "text": [
      "Epoch 1/50\n",
      "144/144 [==============================] - 18s 128ms/step - loss: 2.2772 - mean_absolute_error: 2.2772 - val_loss: 1.4574 - val_mean_absolute_error: 1.4574\n",
      "Epoch 2/50\n",
      "144/144 [==============================] - 17s 118ms/step - loss: 1.7043 - mean_absolute_error: 1.7043 - val_loss: 1.3971 - val_mean_absolute_error: 1.3971\n",
      "Epoch 3/50\n",
      "144/144 [==============================] - 17s 118ms/step - loss: 1.6585 - mean_absolute_error: 1.6585 - val_loss: 1.3357 - val_mean_absolute_error: 1.3357\n",
      "Epoch 4/50\n",
      "144/144 [==============================] - 17s 120ms/step - loss: 1.6221 - mean_absolute_error: 1.6221 - val_loss: 1.3001 - val_mean_absolute_error: 1.3001\n",
      "Epoch 5/50\n",
      "144/144 [==============================] - 17s 121ms/step - loss: 1.5743 - mean_absolute_error: 1.5743 - val_loss: 1.3061 - val_mean_absolute_error: 1.3061\n",
      "Epoch 6/50\n",
      "144/144 [==============================] - 18s 122ms/step - loss: 1.5634 - mean_absolute_error: 1.5634 - val_loss: 1.2818 - val_mean_absolute_error: 1.2818\n",
      "Epoch 7/50\n",
      "144/144 [==============================] - 18s 122ms/step - loss: 1.5326 - mean_absolute_error: 1.5326 - val_loss: 1.2261 - val_mean_absolute_error: 1.2261\n",
      "Epoch 8/50\n",
      "144/144 [==============================] - 18s 122ms/step - loss: 1.4973 - mean_absolute_error: 1.4973 - val_loss: 1.2003 - val_mean_absolute_error: 1.2003\n",
      "Epoch 9/50\n",
      "144/144 [==============================] - 18s 123ms/step - loss: 1.4854 - mean_absolute_error: 1.4854 - val_loss: 1.2167 - val_mean_absolute_error: 1.2167\n",
      "Epoch 10/50\n",
      "144/144 [==============================] - 18s 123ms/step - loss: 1.4541 - mean_absolute_error: 1.4541 - val_loss: 1.1998 - val_mean_absolute_error: 1.1998\n",
      "Epoch 11/50\n",
      "144/144 [==============================] - 18s 124ms/step - loss: 1.4324 - mean_absolute_error: 1.4324 - val_loss: 1.1863 - val_mean_absolute_error: 1.1863\n",
      "Epoch 12/50\n",
      "144/144 [==============================] - 18s 124ms/step - loss: 1.4276 - mean_absolute_error: 1.4276 - val_loss: 1.1538 - val_mean_absolute_error: 1.1538\n",
      "Epoch 13/50\n",
      "144/144 [==============================] - 18s 124ms/step - loss: 1.3922 - mean_absolute_error: 1.3922 - val_loss: 1.1631 - val_mean_absolute_error: 1.1631\n",
      "Epoch 14/50\n",
      "144/144 [==============================] - 18s 124ms/step - loss: 1.3739 - mean_absolute_error: 1.3739 - val_loss: 1.1090 - val_mean_absolute_error: 1.1090\n",
      "Epoch 15/50\n",
      "144/144 [==============================] - 18s 124ms/step - loss: 1.3762 - mean_absolute_error: 1.3762 - val_loss: 1.1437 - val_mean_absolute_error: 1.1437\n",
      "Epoch 16/50\n",
      "144/144 [==============================] - 18s 124ms/step - loss: 1.3428 - mean_absolute_error: 1.3428 - val_loss: 1.1181 - val_mean_absolute_error: 1.1181\n",
      "Epoch 17/50\n",
      "144/144 [==============================] - 18s 124ms/step - loss: 1.3444 - mean_absolute_error: 1.3444 - val_loss: 1.1087 - val_mean_absolute_error: 1.1087\n",
      "Epoch 18/50\n",
      "144/144 [==============================] - 18s 125ms/step - loss: 1.3283 - mean_absolute_error: 1.3283 - val_loss: 1.1089 - val_mean_absolute_error: 1.1089\n",
      "Epoch 19/50\n",
      "144/144 [==============================] - 18s 125ms/step - loss: 1.3264 - mean_absolute_error: 1.3264 - val_loss: 1.1542 - val_mean_absolute_error: 1.1542\n",
      "Epoch 20/50\n",
      "144/144 [==============================] - 18s 125ms/step - loss: 1.3149 - mean_absolute_error: 1.3149 - val_loss: 1.1227 - val_mean_absolute_error: 1.1227\n",
      "Epoch 21/50\n",
      "144/144 [==============================] - 18s 125ms/step - loss: 1.3037 - mean_absolute_error: 1.3037 - val_loss: 1.0581 - val_mean_absolute_error: 1.0581\n",
      "Epoch 22/50\n",
      "144/144 [==============================] - 18s 125ms/step - loss: 1.2921 - mean_absolute_error: 1.2921 - val_loss: 1.0599 - val_mean_absolute_error: 1.0599\n",
      "Epoch 23/50\n",
      "144/144 [==============================] - 18s 125ms/step - loss: 1.2847 - mean_absolute_error: 1.2847 - val_loss: 1.0631 - val_mean_absolute_error: 1.0631\n",
      "Epoch 24/50\n",
      "144/144 [==============================] - 18s 125ms/step - loss: 1.2812 - mean_absolute_error: 1.2812 - val_loss: 1.0671 - val_mean_absolute_error: 1.0671\n",
      "Epoch 25/50\n",
      "144/144 [==============================] - 18s 125ms/step - loss: 1.2649 - mean_absolute_error: 1.2649 - val_loss: 1.0454 - val_mean_absolute_error: 1.0454\n",
      "Epoch 26/50\n",
      "144/144 [==============================] - 18s 125ms/step - loss: 1.2670 - mean_absolute_error: 1.2670 - val_loss: 1.0539 - val_mean_absolute_error: 1.0539\n",
      "Epoch 27/50\n",
      "144/144 [==============================] - 18s 125ms/step - loss: 1.2423 - mean_absolute_error: 1.2423 - val_loss: 1.0544 - val_mean_absolute_error: 1.0544\n",
      "Epoch 28/50\n",
      "144/144 [==============================] - 18s 125ms/step - loss: 1.2501 - mean_absolute_error: 1.2501 - val_loss: 1.0569 - val_mean_absolute_error: 1.0569\n",
      "Epoch 29/50\n",
      "144/144 [==============================] - 18s 125ms/step - loss: 1.2414 - mean_absolute_error: 1.2414 - val_loss: 1.0556 - val_mean_absolute_error: 1.0556\n",
      "INFO:tensorflow:Assets written to: Models/model_VGG19\\assets\n"
     ]
    },
    {
     "data": {
      "image/png": "[encoded data removed]",
      "text/plain": [
       "<Figure size 432x288 with 1 Axes>"
      ]
     },
     "metadata": {
      "needs_background": "light"
     },
     "output_type": "display_data"
    }
   ],
   "source": [
    "base_model_VGG19 = VGG19(input_shape=IMG_SHAPE,\n",
    "                                               include_top=False,\n",
    "                                               weights='imagenet')\n",
    "\n",
    "base_model_VGG19.trainable = False\n",
    "\n",
    "\n",
    "last_layer_VGG19 = base_model_VGG19.get_layer(\"block5_pool\")\n",
    "last_output_VGG19 = last_layer_VGG19.output\n",
    "\n",
    "\n",
    "preprocess_input_VGG19 = vgg19.preprocess_input\n",
    "\n",
    "inputs = Input(shape=IMG_SHAPE)\n",
    "x_VGG19 = data_augmentation(inputs)\n",
    "x_VGG19 = preprocess_input_VGG19(x_VGG19)\n",
    "x_VGG19 = layers.Flatten()(last_output_VGG19)\n",
    "x_VGG19 = layers.Dense(1024, activation='relu')(x_VGG19)\n",
    "x_VGG19 = layers.Dropout(.2)(x_VGG19)\n",
    "x_VGG19 = layers.Dense(512, activation='relu')(x_VGG19)\n",
    "x_VGG19 = layers.Dropout(.2)(x_VGG19) \n",
    "x_VGG19 = layers.Dense(256, activation='relu')(x_VGG19)\n",
    "x_VGG19 = layers.Dropout(.2)(x_VGG19)                  \n",
    "x_VGG19 = layers.Dense(1)(x_VGG19)      \n",
    "\n",
    "\n",
    "model_VGG19 = Model(base_model_VGG19.input, x_VGG19) \n",
    "\n",
    "model_VGG19.compile(\n",
    "    optimizer='Adadelta',\n",
    "    loss='mean_absolute_error', \n",
    "    metrics=['mean_absolute_error']\n",
    ")\n",
    "\n",
    "history =model_VGG19.fit(\n",
    "    img_data, class_name,\n",
    "    epochs=EPOCHS,\n",
    "    verbose=1,\n",
    "    validation_split = 0.2,\n",
    "    callbacks=callbacks\n",
    ")\n",
    "\n",
    "model_VGG19.save('Models/model_VGG19')\n",
    "plot_history(history)"
   ]
  },
  {
   "cell_type": "markdown",
   "metadata": {},
   "source": [
    "Creating and Training the model using the InceptionV3 as a base model"
   ]
  },
  {
   "cell_type": "code",
   "execution_count": 16,
   "metadata": {
    "scrolled": true
   },
   "outputs": [
    {
     "name": "stdout",
     "output_type": "stream",
     "text": [
      "Epoch 1/50\n",
      "144/144 [==============================] - 12s 86ms/step - loss: 2.2196 - mean_absolute_error: 2.2196 - val_loss: 1.4759 - val_mean_absolute_error: 1.4759\n",
      "Epoch 2/50\n",
      "144/144 [==============================] - 10s 70ms/step - loss: 1.7911 - mean_absolute_error: 1.7911 - val_loss: 1.4011 - val_mean_absolute_error: 1.4011\n",
      "Epoch 3/50\n",
      "144/144 [==============================] - 10s 70ms/step - loss: 1.6577 - mean_absolute_error: 1.6577 - val_loss: 1.3272 - val_mean_absolute_error: 1.3272\n",
      "Epoch 4/50\n",
      "144/144 [==============================] - 10s 71ms/step - loss: 1.5608 - mean_absolute_error: 1.5608 - val_loss: 1.3346 - val_mean_absolute_error: 1.3346\n",
      "Epoch 5/50\n",
      "144/144 [==============================] - 10s 71ms/step - loss: 1.5499 - mean_absolute_error: 1.5499 - val_loss: 1.2765 - val_mean_absolute_error: 1.2765\n",
      "Epoch 6/50\n",
      "144/144 [==============================] - 10s 72ms/step - loss: 1.4624 - mean_absolute_error: 1.4624 - val_loss: 1.3169 - val_mean_absolute_error: 1.3169\n",
      "Epoch 7/50\n",
      "144/144 [==============================] - 11s 73ms/step - loss: 1.4484 - mean_absolute_error: 1.4484 - val_loss: 1.2202 - val_mean_absolute_error: 1.2202\n",
      "Epoch 8/50\n",
      "144/144 [==============================] - 11s 73ms/step - loss: 1.3873 - mean_absolute_error: 1.3873 - val_loss: 1.2687 - val_mean_absolute_error: 1.2687\n",
      "Epoch 9/50\n",
      "144/144 [==============================] - 11s 74ms/step - loss: 1.3832 - mean_absolute_error: 1.3832 - val_loss: 1.1732 - val_mean_absolute_error: 1.1732\n",
      "Epoch 10/50\n",
      "144/144 [==============================] - 11s 74ms/step - loss: 1.3480 - mean_absolute_error: 1.3480 - val_loss: 1.2354 - val_mean_absolute_error: 1.2354\n",
      "Epoch 11/50\n",
      "144/144 [==============================] - 11s 74ms/step - loss: 1.3147 - mean_absolute_error: 1.3147 - val_loss: 1.3106 - val_mean_absolute_error: 1.3106\n",
      "Epoch 12/50\n",
      "144/144 [==============================] - 11s 75ms/step - loss: 1.2918 - mean_absolute_error: 1.2918 - val_loss: 1.2067 - val_mean_absolute_error: 1.2067\n",
      "Epoch 13/50\n",
      "144/144 [==============================] - 11s 74ms/step - loss: 1.2746 - mean_absolute_error: 1.2746 - val_loss: 1.1825 - val_mean_absolute_error: 1.1825\n",
      "INFO:tensorflow:Assets written to: Models/model_InceptionV3\\assets\n"
     ]
    },
    {
     "data": {
      "image/png": "[encoded data removed]",
      "text/plain": [
       "<Figure size 432x288 with 1 Axes>"
      ]
     },
     "metadata": {
      "needs_background": "light"
     },
     "output_type": "display_data"
    }
   ],
   "source": [
    "base_model_InceptionV3 = InceptionV3(input_shape=IMG_SHAPE,\n",
    "                                               include_top=False,\n",
    "                                               weights='imagenet')\n",
    "\n",
    "base_model_InceptionV3.trainable = False\n",
    "\n",
    "\n",
    "last_layer_InceptionV3 = base_model_InceptionV3.get_layer(\"mixed10\")\n",
    "last_output_InceptionV3 = last_layer_InceptionV3.output\n",
    "\n",
    "\n",
    "preprocess_input_InceptionV3 = inception_v3.preprocess_input\n",
    "\n",
    "inputs = Input(shape=IMG_SHAPE)\n",
    "x_InceptionV3 = data_augmentation(inputs)\n",
    "x_InceptionV3 = preprocess_input_InceptionV3(x_InceptionV3)\n",
    "x_InceptionV3 = layers.Flatten()(last_output_InceptionV3)\n",
    "x_InceptionV3 = layers.Dense(1024, activation='relu')(x_InceptionV3)\n",
    "x_InceptionV3 = layers.Dropout(.2)(x_InceptionV3)\n",
    "x_InceptionV3 = layers.Dense(512, activation='relu')(x_InceptionV3)\n",
    "x_InceptionV3 = layers.Dropout(.2)(x_InceptionV3) \n",
    "x_InceptionV3 = layers.Dense(256, activation='relu')(x_InceptionV3)\n",
    "x_InceptionV3 = layers.Dropout(.2)(x_InceptionV3)                  \n",
    "x_InceptionV3 = layers.Dense(1)(x_InceptionV3)      \n",
    "\n",
    "\n",
    "model_InceptionV3 = Model(base_model_InceptionV3.input, x_InceptionV3) \n",
    "\n",
    "model_InceptionV3.compile(\n",
    "    optimizer='Adadelta',\n",
    "    loss='mean_absolute_error', \n",
    "    metrics=['mean_absolute_error']\n",
    ")\n",
    "\n",
    "history =model_InceptionV3.fit(\n",
    "    img_data, class_name,\n",
    "    epochs=EPOCHS,\n",
    "    verbose=1,\n",
    "    validation_split = 0.2,\n",
    "    callbacks=callbacks\n",
    ")\n",
    "model_InceptionV3.save('Models/model_InceptionV3')\n",
    "plot_history(history)"
   ]
  },
  {
   "cell_type": "markdown",
   "metadata": {},
   "source": [
    "Creating and Training the model using the MobileNetV2 as a base model"
   ]
  },
  {
   "cell_type": "code",
   "execution_count": 17,
   "metadata": {},
   "outputs": [
    {
     "name": "stdout",
     "output_type": "stream",
     "text": [
      "Epoch 1/50\n",
      "144/144 [==============================] - 8s 56ms/step - loss: 2.0321 - mean_absolute_error: 2.0321 - val_loss: 1.3389 - val_mean_absolute_error: 1.3389\n",
      "Epoch 2/50\n",
      "144/144 [==============================] - 7s 46ms/step - loss: 1.7530 - mean_absolute_error: 1.7530 - val_loss: 1.2215 - val_mean_absolute_error: 1.2215\n",
      "Epoch 3/50\n",
      "144/144 [==============================] - 7s 46ms/step - loss: 1.6095 - mean_absolute_error: 1.6095 - val_loss: 1.1822 - val_mean_absolute_error: 1.1822\n",
      "Epoch 4/50\n",
      "144/144 [==============================] - 7s 47ms/step - loss: 1.5271 - mean_absolute_error: 1.5271 - val_loss: 1.1248 - val_mean_absolute_error: 1.1248\n",
      "Epoch 5/50\n",
      "144/144 [==============================] - 7s 47ms/step - loss: 1.4532 - mean_absolute_error: 1.4532 - val_loss: 1.1003 - val_mean_absolute_error: 1.1003\n",
      "Epoch 6/50\n",
      "144/144 [==============================] - 7s 47ms/step - loss: 1.4220 - mean_absolute_error: 1.4220 - val_loss: 1.0686 - val_mean_absolute_error: 1.0686\n",
      "Epoch 7/50\n",
      "144/144 [==============================] - 7s 47ms/step - loss: 1.3843 - mean_absolute_error: 1.3843 - val_loss: 1.0467 - val_mean_absolute_error: 1.0467\n",
      "Epoch 8/50\n",
      "144/144 [==============================] - 7s 47ms/step - loss: 1.3339 - mean_absolute_error: 1.3339 - val_loss: 1.0361 - val_mean_absolute_error: 1.0361\n",
      "Epoch 9/50\n",
      "144/144 [==============================] - 7s 47ms/step - loss: 1.2807 - mean_absolute_error: 1.2807 - val_loss: 1.0358 - val_mean_absolute_error: 1.0358\n",
      "Epoch 10/50\n",
      "144/144 [==============================] - 7s 48ms/step - loss: 1.2629 - mean_absolute_error: 1.2629 - val_loss: 1.0097 - val_mean_absolute_error: 1.0097\n",
      "Epoch 11/50\n",
      "144/144 [==============================] - 7s 47ms/step - loss: 1.2298 - mean_absolute_error: 1.2298 - val_loss: 1.0075 - val_mean_absolute_error: 1.0075\n",
      "Epoch 12/50\n",
      "144/144 [==============================] - 7s 48ms/step - loss: 1.2005 - mean_absolute_error: 1.2005 - val_loss: 0.9982 - val_mean_absolute_error: 0.9982\n",
      "Epoch 13/50\n",
      "144/144 [==============================] - 7s 48ms/step - loss: 1.1934 - mean_absolute_error: 1.1934 - val_loss: 1.0047 - val_mean_absolute_error: 1.0047\n",
      "Epoch 14/50\n",
      "144/144 [==============================] - 7s 48ms/step - loss: 1.1787 - mean_absolute_error: 1.1787 - val_loss: 0.9900 - val_mean_absolute_error: 0.9900\n",
      "Epoch 15/50\n",
      "144/144 [==============================] - 7s 48ms/step - loss: 1.1390 - mean_absolute_error: 1.1390 - val_loss: 0.9861 - val_mean_absolute_error: 0.9861\n",
      "Epoch 16/50\n",
      "144/144 [==============================] - 7s 48ms/step - loss: 1.1323 - mean_absolute_error: 1.1323 - val_loss: 0.9805 - val_mean_absolute_error: 0.9805\n",
      "Epoch 17/50\n",
      "144/144 [==============================] - 7s 48ms/step - loss: 1.1016 - mean_absolute_error: 1.1016 - val_loss: 0.9790 - val_mean_absolute_error: 0.9790\n",
      "Epoch 18/50\n",
      "144/144 [==============================] - 7s 48ms/step - loss: 1.0666 - mean_absolute_error: 1.0666 - val_loss: 0.9811 - val_mean_absolute_error: 0.9811\n",
      "Epoch 19/50\n",
      "144/144 [==============================] - 7s 48ms/step - loss: 1.0572 - mean_absolute_error: 1.0572 - val_loss: 0.9752 - val_mean_absolute_error: 0.9752\n",
      "Epoch 20/50\n",
      "144/144 [==============================] - 7s 48ms/step - loss: 1.0344 - mean_absolute_error: 1.0344 - val_loss: 0.9743 - val_mean_absolute_error: 0.9743\n",
      "Epoch 21/50\n",
      "144/144 [==============================] - 7s 48ms/step - loss: 1.0163 - mean_absolute_error: 1.0163 - val_loss: 0.9751 - val_mean_absolute_error: 0.9751\n",
      "Epoch 22/50\n",
      "144/144 [==============================] - 7s 48ms/step - loss: 0.9977 - mean_absolute_error: 0.9977 - val_loss: 0.9728 - val_mean_absolute_error: 0.9728\n",
      "Epoch 23/50\n",
      "144/144 [==============================] - 7s 48ms/step - loss: 0.9897 - mean_absolute_error: 0.9897 - val_loss: 0.9717 - val_mean_absolute_error: 0.9717\n",
      "Epoch 24/50\n",
      "144/144 [==============================] - 7s 48ms/step - loss: 0.9677 - mean_absolute_error: 0.9677 - val_loss: 0.9691 - val_mean_absolute_error: 0.9691\n",
      "Epoch 25/50\n",
      "144/144 [==============================] - 7s 48ms/step - loss: 0.9517 - mean_absolute_error: 0.9517 - val_loss: 0.9655 - val_mean_absolute_error: 0.9655\n",
      "Epoch 26/50\n",
      "144/144 [==============================] - 7s 48ms/step - loss: 0.9406 - mean_absolute_error: 0.9406 - val_loss: 0.9658 - val_mean_absolute_error: 0.9658\n",
      "Epoch 27/50\n",
      "144/144 [==============================] - 7s 48ms/step - loss: 0.9156 - mean_absolute_error: 0.9156 - val_loss: 0.9625 - val_mean_absolute_error: 0.9625\n",
      "Epoch 28/50\n",
      "144/144 [==============================] - 7s 48ms/step - loss: 0.9232 - mean_absolute_error: 0.9232 - val_loss: 0.9663 - val_mean_absolute_error: 0.9663\n",
      "Epoch 29/50\n",
      "144/144 [==============================] - 7s 48ms/step - loss: 0.9003 - mean_absolute_error: 0.9003 - val_loss: 0.9656 - val_mean_absolute_error: 0.9656\n",
      "Epoch 30/50\n",
      "144/144 [==============================] - 7s 48ms/step - loss: 0.8879 - mean_absolute_error: 0.8879 - val_loss: 0.9642 - val_mean_absolute_error: 0.9642\n",
      "Epoch 31/50\n",
      "144/144 [==============================] - 7s 48ms/step - loss: 0.8708 - mean_absolute_error: 0.8708 - val_loss: 0.9620 - val_mean_absolute_error: 0.9620\n",
      "Epoch 32/50\n",
      "144/144 [==============================] - 7s 48ms/step - loss: 0.8673 - mean_absolute_error: 0.8673 - val_loss: 0.9648 - val_mean_absolute_error: 0.9648\n",
      "Epoch 33/50\n",
      "144/144 [==============================] - 7s 48ms/step - loss: 0.8414 - mean_absolute_error: 0.8414 - val_loss: 0.9613 - val_mean_absolute_error: 0.9613\n",
      "Epoch 34/50\n",
      "144/144 [==============================] - 7s 48ms/step - loss: 0.8467 - mean_absolute_error: 0.8467 - val_loss: 0.9602 - val_mean_absolute_error: 0.9602\n",
      "Epoch 35/50\n",
      "144/144 [==============================] - 7s 48ms/step - loss: 0.8188 - mean_absolute_error: 0.8188 - val_loss: 0.9612 - val_mean_absolute_error: 0.9612\n",
      "Epoch 36/50\n",
      "144/144 [==============================] - 7s 48ms/step - loss: 0.8278 - mean_absolute_error: 0.8278 - val_loss: 0.9577 - val_mean_absolute_error: 0.9577\n",
      "Epoch 37/50\n",
      "144/144 [==============================] - 7s 48ms/step - loss: 0.8143 - mean_absolute_error: 0.8143 - val_loss: 0.9575 - val_mean_absolute_error: 0.9575\n",
      "Epoch 38/50\n",
      "144/144 [==============================] - 7s 48ms/step - loss: 0.7985 - mean_absolute_error: 0.7985 - val_loss: 0.9599 - val_mean_absolute_error: 0.9599\n",
      "Epoch 39/50\n",
      "144/144 [==============================] - 7s 48ms/step - loss: 0.7977 - mean_absolute_error: 0.7977 - val_loss: 0.9613 - val_mean_absolute_error: 0.9613\n",
      "Epoch 40/50\n",
      "144/144 [==============================] - 7s 48ms/step - loss: 0.7780 - mean_absolute_error: 0.7780 - val_loss: 0.9552 - val_mean_absolute_error: 0.9552\n",
      "Epoch 41/50\n",
      "144/144 [==============================] - 7s 48ms/step - loss: 0.7580 - mean_absolute_error: 0.7580 - val_loss: 0.9545 - val_mean_absolute_error: 0.9545\n",
      "Epoch 42/50\n",
      "144/144 [==============================] - 7s 48ms/step - loss: 0.7769 - mean_absolute_error: 0.7769 - val_loss: 0.9572 - val_mean_absolute_error: 0.9572\n",
      "Epoch 43/50\n",
      "144/144 [==============================] - 7s 48ms/step - loss: 0.7505 - mean_absolute_error: 0.7505 - val_loss: 0.9548 - val_mean_absolute_error: 0.9548\n",
      "Epoch 44/50\n",
      "144/144 [==============================] - 7s 48ms/step - loss: 0.7484 - mean_absolute_error: 0.7484 - val_loss: 0.9496 - val_mean_absolute_error: 0.9496\n",
      "Epoch 45/50\n",
      "144/144 [==============================] - 7s 48ms/step - loss: 0.7517 - mean_absolute_error: 0.7517 - val_loss: 0.9506 - val_mean_absolute_error: 0.9506\n",
      "Epoch 46/50\n",
      "144/144 [==============================] - 7s 48ms/step - loss: 0.7415 - mean_absolute_error: 0.7415 - val_loss: 0.9534 - val_mean_absolute_error: 0.9534\n",
      "Epoch 47/50\n",
      "144/144 [==============================] - 7s 48ms/step - loss: 0.7196 - mean_absolute_error: 0.7196 - val_loss: 0.9514 - val_mean_absolute_error: 0.9514\n",
      "Epoch 48/50\n",
      "144/144 [==============================] - 7s 48ms/step - loss: 0.7300 - mean_absolute_error: 0.7300 - val_loss: 0.9606 - val_mean_absolute_error: 0.9606\n",
      "INFO:tensorflow:Assets written to: Models/model_MobileNetV2\\assets\n"
     ]
    },
    {
     "data": {
      "image/png": "[encoded data removed]",
      "text/plain": [
       "<Figure size 432x288 with 1 Axes>"
      ]
     },
     "metadata": {
      "needs_background": "light"
     },
     "output_type": "display_data"
    }
   ],
   "source": [
    "base_model_MobileNetV2 = MobileNetV2(input_shape=IMG_SHAPE,\n",
    "                                               include_top=False,\n",
    "                                               weights='imagenet')\n",
    "\n",
    "base_model_MobileNetV2.trainable = False\n",
    "\n",
    "\n",
    "last_layer_MobileNetV2 = base_model_MobileNetV2.get_layer(\"out_relu\")\n",
    "last_output_MobileNetV2 = last_layer_MobileNetV2.output\n",
    "\n",
    "\n",
    "\n",
    "preprocess_input_MobileNetV2 = mobilenet_v2.preprocess_input\n",
    "\n",
    "inputs = Input(shape=IMG_SHAPE)\n",
    "x_MobileNetV2 = data_augmentation(inputs)\n",
    "x_MobileNetV2 = preprocess_input_MobileNetV2(x_MobileNetV2)\n",
    "x_MobileNetV2 = layers.Flatten()(last_output_MobileNetV2)\n",
    "x_MobileNetV2 = layers.Dense(1024, activation='relu')(x_MobileNetV2)\n",
    "x_MobileNetV2 = layers.Dropout(.2)(x_MobileNetV2)\n",
    "x_MobileNetV2 = layers.Dense(512, activation='relu')(x_MobileNetV2)\n",
    "x_MobileNetV2 = layers.Dropout(.2)(x_MobileNetV2) \n",
    "x_MobileNetV2 = layers.Dense(256, activation='relu')(x_MobileNetV2)\n",
    "x_MobileNetV2 = layers.Dropout(.2)(x_MobileNetV2)                  \n",
    "x_MobileNetV2 = layers.Dense(1)(x_MobileNetV2)      \n",
    "\n",
    "\n",
    "model_MobileNetV2 = Model(base_model_MobileNetV2.input, x_MobileNetV2) \n",
    "\n",
    "model_MobileNetV2.compile(\n",
    "    optimizer='Adadelta',\n",
    "    loss='mean_absolute_error', \n",
    "    metrics=['mean_absolute_error']\n",
    ")\n",
    "\n",
    "history =model_MobileNetV2.fit(\n",
    "    img_data, class_name,\n",
    "    epochs=EPOCHS,\n",
    "    verbose=1,\n",
    "    validation_split = 0.2,\n",
    "    callbacks=callbacks\n",
    ")\n",
    "model_MobileNetV2.save('Models/model_MobileNetV2')\n",
    "plot_history(history)"
   ]
  },
  {
   "cell_type": "code",
   "execution_count": 10,
   "metadata": {},
   "outputs": [],
   "source": [
    "model_names = ['model_MobileNetV2','model_InceptionV3','model_VGG19','model_InceptionResNetV2','model_ResNet152V2']"
   ]
  },
  {
   "cell_type": "code",
   "execution_count": 11,
   "metadata": {},
   "outputs": [
    {
     "name": "stdout",
     "output_type": "stream",
     "text": [
      "model_MobileNetV2  Loading...\n",
      "Model Load done\n",
      "model_InceptionV3  Loading...\n",
      "Model Load done\n",
      "model_VGG19  Loading...\n",
      "Model Load done\n",
      "model_InceptionResNetV2  Loading...\n",
      "Model Load done\n",
      "model_ResNet152V2  Loading...\n",
      "Model Load done\n"
     ]
    }
   ],
   "source": [
    "getFinalAvgPredictions(model_names,14)"
   ]
  },
  {
   "cell_type": "code",
   "execution_count": null,
   "metadata": {},
   "outputs": [],
   "source": []
  }
 ],
 "metadata": {
  "kernelspec": {
   "display_name": "Python 3",
   "language": "python",
   "name": "python3"
  },
  "language_info": {
   "codemirror_mode": {
    "name": "ipython",
    "version": 3
   },
   "file_extension": ".py",
   "mimetype": "text/x-python",
   "name": "python",
   "nbconvert_exporter": "python",
   "pygments_lexer": "ipython3",
   "version": "3.7.9"
  }
 },
 "nbformat": 4,
 "nbformat_minor": 4
}
